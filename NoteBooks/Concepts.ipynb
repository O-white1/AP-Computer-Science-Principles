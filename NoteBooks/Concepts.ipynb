{
 "cells": [
  {
   "cell_type": "markdown",
   "metadata": {},
   "source": [
    "# Week 10 - Information Theory"
   ]
  },
  {
   "cell_type": "code",
   "execution_count": 4,
   "metadata": {},
   "outputs": [
    {
     "name": "stdout",
     "output_type": "stream",
     "text": [
      "Hello World!\n"
     ]
    }
   ],
   "source": [
    "print(\"Hello World!\")"
   ]
  },
  {
   "cell_type": "code",
   "execution_count": 5,
   "metadata": {},
   "outputs": [
    {
     "name": "stdout",
     "output_type": "stream",
     "text": [
      "Original text 47 bytes:  Here's some text some text text with repetition\n",
      "Compressed text 42 bytes:  b'x\\x9c\\xf3H-JU/V(\\xce\\xcfMU(I\\xad(Ab\\x81\\x89\\xf2\\xcc\\x92\\x0c\\x85\\xa2\\xd4\\x82\\xd4\\x92\\xcc\\x92\\xcc\\xfc<\\x00\\x9b\\xcd\\x11\\xb5'\n",
      "Decompressed text Here's some text some text text with repetition\n",
      "Compression Ratio: 0.89\n"
     ]
    }
   ],
   "source": [
    "import zlib # lzma\n",
    "\n",
    "text = \"Here's some text some text text with repetition\"\n",
    "print(f\"Original text {len(text)} bytes: \", text)\n",
    "\n",
    "text_bytes = text.encode(\"ascii\")\n",
    "comp = zlib.compress(text_bytes)\n",
    "print(f\"Compressed text {len(comp)} bytes: \", comp)\n",
    "\n",
    "decomp = zlib.decompress(comp)\n",
    "print(\"Decompressed text\", decomp.decode('ascii'))\n",
    "\n",
    "ratio = len(comp) / len(text_bytes)\n",
    "print(f\"Compression Ratio: {ratio:.2f}\")"
   ]
  }
 ],
 "metadata": {
  "kernelspec": {
   "display_name": "Python 3",
   "language": "python",
   "name": "python3"
  },
  "language_info": {
   "codemirror_mode": {
    "name": "ipython",
    "version": 3
   },
   "file_extension": ".py",
   "mimetype": "text/x-python",
   "name": "python",
   "nbconvert_exporter": "python",
   "pygments_lexer": "ipython3",
   "version": "3.12.1"
  }
 },
 "nbformat": 4,
 "nbformat_minor": 2
}
